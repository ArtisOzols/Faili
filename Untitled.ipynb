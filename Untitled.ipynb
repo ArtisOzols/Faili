{
 "cells": [
  {
   "cell_type": "code",
   "execution_count": 9,
   "id": "dd6f299f",
   "metadata": {},
   "outputs": [],
   "source": [
    "# TODO Valdis transfer notebook code from lab.lnb.lv  to .py\n",
    "\n",
    "from pathlib import Path\n",
    "import argparse\n",
    "import pandas as pd\n",
    "from datetime import datetime\n",
    "\n",
    "def getFilter(path=\"parquet\", prefix=\"\", match=\"\", ignore=\"\", suffix=\"parquet\"):\n",
    "    \"\"\"\n",
    "    Get list of files given path, prefix, match, ignore, suffix\"\"\"\n",
    "    p = Path(path)\n",
    "    if ignore:\n",
    "        return [f for f in p.iterdir() if f.is_file() and f.name.startswith(prefix) and match in f.name and not ignore in f.name and f.name.endswith(suffix)]\n",
    "    return [f for f in p.iterdir() if f.is_file() and f.name.startswith(prefix) and match in f.name and f.name.endswith(suffix)]"
   ]
  },
  {
   "cell_type": "code",
   "execution_count": 10,
   "id": "af440510",
   "metadata": {},
   "outputs": [],
   "source": [
    "def create_df(file):\n",
    "    \"\"\"\n",
    "    Create dataframe from file\"\"\"\n",
    "    df = pd.read_parquet(file)\n",
    "    split_name = file.stem.split(\"_\")\n",
    "    df[\"author\"] = split_name[0]\n",
    "    df[\"title\"] = split_name[1]\n",
    "    df[\"domID\"] = split_name[2] if len(split_name) == 3 else \"0\" # some files might not have dom id, use 0 then\n",
    "    df[\"partID\"] = split_name[3] if len(split_name) == 4 else \"0\" # byproduct of file splitting for tagging\n",
    "    return df\n",
    "\n",
    "def get_dfs(files):\n",
    "    \"\"\"\n",
    "    Get dfs from files\"\"\"\n",
    "    dfs = []\n",
    "    for file in files:\n",
    "        dfs.append(create_df(file))\n",
    "    return dfs\n",
    "\n",
    "def combine_dfs(dfs):\n",
    "    \"\"\"\n",
    "    Combine dfs into one dataframe\"\"\"\n",
    "    return pd.concat(dfs)"
   ]
  },
  {
   "cell_type": "code",
   "execution_count": 8,
   "id": "763e0d6c",
   "metadata": {},
   "outputs": [],
   "source": [
    "def parquet_to_combined(files, file_list_count):\n",
    "    dfs = get_dfs(files)\n",
    "    print(datetime.now(), \"Have read all the dataframes will combine now\")\n",
    "    df = combine_dfs(dfs)\n",
    "    print(\"Combined DataFrame is \", df.shape)\n",
    "    print(datetime.now(), \"Will save now\")\n",
    "    df.to_parquet(f\"processed/combined{'_'+file_list_count if file_list_count>0 else ''}.parquet\") # TODO make it configurable"
   ]
  },
  {
   "cell_type": "code",
   "execution_count": null,
   "id": "24892d2d",
   "metadata": {},
   "outputs": [],
   "source": [
    "if __name__ == \"__main__\":\n",
    "    parser = argparse.ArgumentParser(description=\"Combine multiple parquet files into one\")\n",
    "    parser.add_argument(\n",
    "        \"-d\",\n",
    "        \"--dir\",\n",
    "        default=\"parquet\",\n",
    "        type=str,\n",
    "        help=\"Folder (default parquet) to source all parquet files to be combined\",\n",
    "    )\n",
    "    args = parser.parse_args()\n",
    "    if args.dir:\n",
    "        files = getFilter(args.dir, prefix=\"\", match=\"\", ignore=\"\", suffix=\"parquet\")\n",
    "        print(f\"Will process {len(files)} files\")\n",
    "        print(datetime.now())\n",
    "        \n",
    "        \n",
    "        file_list, file_list_count, size = [], 0, 0\n",
    "\n",
    "        for file in files:\n",
    "            size += file.stat().st_size\n",
    "            if size < 10000:    # 1GB\n",
    "                file_list.append(file)\n",
    "            else:\n",
    "                parquet_to_combined(file_list, file_list_count)\n",
    "                file_list_count += 1\n",
    "\n",
    "                file_list = [file]\n",
    "                size = file.stat().st_size\n",
    "        parquet_to_combined(file_list, file_list_count)"
   ]
  },
  {
   "cell_type": "code",
   "execution_count": 39,
   "id": "9746034a",
   "metadata": {},
   "outputs": [
    {
     "name": "stdout",
     "output_type": "stream",
     "text": [
      "6\n",
      "1\n"
     ]
    }
   ],
   "source": []
  }
 ],
 "metadata": {
  "kernelspec": {
   "display_name": "Python 3 (ipykernel)",
   "language": "python",
   "name": "python3"
  },
  "language_info": {
   "codemirror_mode": {
    "name": "ipython",
    "version": 3
   },
   "file_extension": ".py",
   "mimetype": "text/x-python",
   "name": "python",
   "nbconvert_exporter": "python",
   "pygments_lexer": "ipython3",
   "version": "3.9.12"
  }
 },
 "nbformat": 4,
 "nbformat_minor": 5
}
